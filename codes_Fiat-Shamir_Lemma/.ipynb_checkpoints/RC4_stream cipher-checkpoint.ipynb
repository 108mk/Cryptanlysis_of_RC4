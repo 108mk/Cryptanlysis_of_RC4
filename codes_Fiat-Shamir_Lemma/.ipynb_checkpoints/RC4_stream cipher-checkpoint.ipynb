{
 "cells": [
  {
   "cell_type": "code",
   "execution_count": 2,
   "metadata": {},
   "outputs": [],
   "source": [
    "######-----Credit: Harry Sauers (git: hsauers5)-------#######"
   ]
  },
  {
   "cell_type": "code",
   "execution_count": null,
   "metadata": {},
   "outputs": [],
   "source": [
    "import numpy as np\n",
    "import matplotlib as plt\n",
    "import random as rn\n",
    "import math"
   ]
  },
  {
   "cell_type": "code",
   "execution_count": null,
   "metadata": {},
   "outputs": [],
   "source": [
    "s = np.arange(256)"
   ]
  },
  {
   "cell_type": "code",
   "execution_count": 3,
   "metadata": {},
   "outputs": [],
   "source": [
    "def key_scheduling(key):\n",
    "    sched = [i for i in range(0, 256)]\n",
    "    \n",
    "    i = 0\n",
    "    for j in range(0, 256):\n",
    "        i = (i + sched[j] + key[j % len(key)]) % 256\n",
    "        \n",
    "        tmp = sched[j]\n",
    "        sched[j] = sched[i]\n",
    "        sched[i] = tmp\n",
    "        \n",
    "    return sched\n",
    "    \n",
    "\n",
    "def stream_generation(sched):\n",
    "    stream = []\n",
    "    i = 0\n",
    "    j = 0\n",
    "    while True:\n",
    "        i = (1 + i) % 256\n",
    "        j = (sched[i] + j) % 256\n",
    "        \n",
    "        tmp = sched[j]\n",
    "        sched[j] = sched[i]\n",
    "        sched[i] = tmp\n",
    "        \n",
    "        yield sched[(sched[i] + sched[j]) % 256]        "
   ]
  },
  {
   "cell_type": "code",
   "execution_count": 4,
   "metadata": {},
   "outputs": [],
   "source": [
    "def encrypt(text, key):\n",
    "    text = [ord(char) for char in text]\n",
    "    key = [ord(char) for char in key]\n",
    "    \n",
    "    sched = key_scheduling(key)\n",
    "    key_stream = stream_generation(sched)\n",
    "    \n",
    "    ciphertext = ''\n",
    "    for char in text:\n",
    "        enc = str(hex(char ^ next(key_stream))).upper()\n",
    "        ciphertext += (enc)\n",
    "        \n",
    "    return ciphertext"
   ]
  },
  {
   "cell_type": "code",
   "execution_count": 5,
   "metadata": {},
   "outputs": [],
   "source": [
    "def decrypt(ciphertext, key):\n",
    "    ciphertext = ciphertext.split('0X')[1:]\n",
    "    ciphertext = [int('0x' + c.lower(), 0) for c in ciphertext]\n",
    "    key = [ord(char) for char in key]\n",
    "    \n",
    "    sched = key_scheduling(key)\n",
    "    key_stream = stream_generation(sched)\n",
    "    \n",
    "    plaintext = ''\n",
    "    for char in ciphertext:\n",
    "        dec = str(chr(char ^ next(key_stream)))\n",
    "        plaintext += dec\n",
    "    \n",
    "    return plaintext"
   ]
  },
  {
   "cell_type": "code",
   "execution_count": 6,
   "metadata": {},
   "outputs": [
    {
     "name": "stdout",
     "output_type": "stream",
     "text": [
      "Enter E for Encrypt, or D for Decrypt: E\n",
      "Enter your plaintext: Manish\n",
      "Enter your secret key: open sesame\n",
      "Result: \n",
      "0XE90X4F0X690X170XA10X4C\n"
     ]
    }
   ],
   "source": [
    "if __name__ == '__main__':\n",
    "    ed = input('Enter E for Encrypt, or D for Decrypt: ').upper()\n",
    "    if ed == 'E':\n",
    "        plaintext = input('Enter your plaintext: ')\n",
    "        key = input('Enter your secret key: ')\n",
    "        result = encrypt(plaintext, key)\n",
    "        print('Result: ')\n",
    "        print(result)\n",
    "    elif ed == 'D': \n",
    "        ciphertext = input('Enter your ciphertext: ')\n",
    "        key = input('Enter your secret key: ')\n",
    "        result = decrypt(ciphertext, key)\n",
    "        print('Result: ')\n",
    "        print(result)\n",
    "    else:\n",
    "        print('Error in input - try again.')"
   ]
  },
  {
   "cell_type": "code",
   "execution_count": null,
   "metadata": {},
   "outputs": [],
   "source": []
  }
 ],
 "metadata": {
  "kernelspec": {
   "display_name": "Python 3",
   "language": "python",
   "name": "python3"
  },
  "language_info": {
   "codemirror_mode": {
    "name": "ipython",
    "version": 3
   },
   "file_extension": ".py",
   "mimetype": "text/x-python",
   "name": "python",
   "nbconvert_exporter": "python",
   "pygments_lexer": "ipython3",
   "version": "3.7.3"
  }
 },
 "nbformat": 4,
 "nbformat_minor": 4
}
